{
  "cells": [
    {
      "cell_type": "code",
      "execution_count": null,
      "metadata": {
        "id": "eY_KWmEhJQrp"
      },
      "outputs": [],
      "source": []
    },
    {
      "cell_type": "code",
      "execution_count": null,
      "metadata": {
        "colab": {
          "base_uri": "https://localhost:8080/"
        },
        "id": "38aYfF35BOx8",
        "outputId": "1302d0cc-84ef-4504-9446-127da57ea5f8"
      },
      "outputs": [
        {
          "name": "stdout",
          "output_type": "stream",
          "text": [
            "Collecting groq==0.9.0\n",
            "  Downloading groq-0.9.0-py3-none-any.whl.metadata (13 kB)\n",
            "Requirement already satisfied: anyio<5,>=3.5.0 in /usr/local/lib/python3.10/dist-packages (from groq==0.9.0) (3.7.1)\n",
            "Requirement already satisfied: distro<2,>=1.7.0 in /usr/local/lib/python3.10/dist-packages (from groq==0.9.0) (1.9.0)\n",
            "Requirement already satisfied: httpx<1,>=0.23.0 in /usr/local/lib/python3.10/dist-packages (from groq==0.9.0) (0.28.1)\n",
            "Requirement already satisfied: pydantic<3,>=1.9.0 in /usr/local/lib/python3.10/dist-packages (from groq==0.9.0) (2.10.3)\n",
            "Requirement already satisfied: sniffio in /usr/local/lib/python3.10/dist-packages (from groq==0.9.0) (1.3.1)\n",
            "Requirement already satisfied: typing-extensions<5,>=4.7 in /usr/local/lib/python3.10/dist-packages (from groq==0.9.0) (4.12.2)\n",
            "Requirement already satisfied: idna>=2.8 in /usr/local/lib/python3.10/dist-packages (from anyio<5,>=3.5.0->groq==0.9.0) (3.10)\n",
            "Requirement already satisfied: exceptiongroup in /usr/local/lib/python3.10/dist-packages (from anyio<5,>=3.5.0->groq==0.9.0) (1.2.2)\n",
            "Requirement already satisfied: certifi in /usr/local/lib/python3.10/dist-packages (from httpx<1,>=0.23.0->groq==0.9.0) (2024.12.14)\n",
            "Requirement already satisfied: httpcore==1.* in /usr/local/lib/python3.10/dist-packages (from httpx<1,>=0.23.0->groq==0.9.0) (1.0.7)\n",
            "Requirement already satisfied: h11<0.15,>=0.13 in /usr/local/lib/python3.10/dist-packages (from httpcore==1.*->httpx<1,>=0.23.0->groq==0.9.0) (0.14.0)\n",
            "Requirement already satisfied: annotated-types>=0.6.0 in /usr/local/lib/python3.10/dist-packages (from pydantic<3,>=1.9.0->groq==0.9.0) (0.7.0)\n",
            "Requirement already satisfied: pydantic-core==2.27.1 in /usr/local/lib/python3.10/dist-packages (from pydantic<3,>=1.9.0->groq==0.9.0) (2.27.1)\n",
            "Downloading groq-0.9.0-py3-none-any.whl (103 kB)\n",
            "\u001b[?25l   \u001b[90m━━━━━━━━━━━━━━━━━━━━━━━━━━━━━━━━━━━━━━━━\u001b[0m \u001b[32m0.0/103.5 kB\u001b[0m \u001b[31m?\u001b[0m eta \u001b[36m-:--:--\u001b[0m\r\u001b[2K   \u001b[90m━━━━━━━━━━━━━━━━━━━━━━━━━━━━━━━━━━━━━━━━\u001b[0m \u001b[32m103.5/103.5 kB\u001b[0m \u001b[31m4.8 MB/s\u001b[0m eta \u001b[36m0:00:00\u001b[0m\n",
            "\u001b[?25hInstalling collected packages: groq\n",
            "Successfully installed groq-0.9.0\n"
          ]
        }
      ],
      "source": [
        "!pip install groq==0.9.0"
      ]
    },
    {
      "cell_type": "code",
      "execution_count": null,
      "metadata": {
        "id": "21BGsCQeOmKs"
      },
      "outputs": [],
      "source": [
        "pip install youtube-transcript-api requests typing\n"
      ]
    },
    {
      "cell_type": "code",
      "execution_count": null,
      "metadata": {
        "id": "vSsIUrsDKzaj"
      },
      "outputs": [],
      "source": [
        "import re\n",
        "from youtube_transcript_api import YouTubeTranscriptApi\n",
        "import requests\n",
        "from typing import List, Optional\n",
        "import logging"
      ]
    },
    {
      "cell_type": "code",
      "execution_count": null,
      "metadata": {
        "colab": {
          "base_uri": "https://localhost:8080/"
        },
        "id": "FZ_HgSSNLDL3",
        "outputId": "47c34477-01c4-41fd-f376-f110f6ee6f01"
      },
      "outputs": [
        {
          "name": "stdout",
          "output_type": "stream",
          "text": [
            "Enter Question what is this video about?\n",
            "Answer: This video is about the importance of taking risks and embracing failure in life. The speaker emphasizes that taking risks and stepping out of one's comfort zone is necessary for personal growth, success, and making a positive impact on the world. They encourage the graduates to be bold, pursue their passions, and not be afraid to fail, using their own experiences and examples to illustrate their points. The video also touches on the idea that failure can sometimes lead to unexpected opportunities and that it's essential to stay open-minded, learn from one's mistakes, and keep moving forward. The speaker's message is meant to inspire and motivate the graduates to make the most of their lives and talents.\n"
          ]
        }
      ],
      "source": [
        "\n",
        "class TranscriptError(Exception):\n",
        "    \"\"\"Custom exception for transcript-related errors.\"\"\"\n",
        "    pass\n",
        "\n",
        "def fetch_transcript(video_url: str) -> str:\n",
        "\n",
        "    try:\n",
        "        \n",
        "        video_id_match = re.search(\n",
        "            r\"(?:v=|\\/|youtu\\.be\\/|embed\\/)([a-zA-Z0-9_-]{11})\",\n",
        "            video_url\n",
        "        )\n",
        "        if not video_id_match:\n",
        "            raise TranscriptError(\"Invalid YouTube URL format\")\n",
        "\n",
        "        video_id = video_id_match.group(1)\n",
        "\n",
        "        try:\n",
        "            transcript_list = YouTubeTranscriptApi.list_transcripts(video_id)\n",
        "            # Try to get English transcript first, fall back to auto-generated\n",
        "            try:\n",
        "                transcript = transcript_list.find_transcript(['en'])\n",
        "            except:\n",
        "                transcript = transcript_list.find_generated_transcript(['en'])\n",
        "\n",
        "            transcript_data = transcript.fetch()\n",
        "            return \" \".join(item['text'] for item in transcript_data)\n",
        "\n",
        "        except Exception as e:\n",
        "            available_transcripts = []\n",
        "            try:\n",
        "                available_transcripts = [\n",
        "                    t.language_code\n",
        "                    for t in transcript_list.manual_transcripts\n",
        "                ]\n",
        "            except:\n",
        "                pass\n",
        "\n",
        "            raise TranscriptError(\n",
        "                f\"Failed to fetch transcript. Available languages: {available_transcripts}. Error: {str(e)}\"\n",
        "            )\n",
        "\n",
        "    except Exception as e:\n",
        "        raise TranscriptError(f\"Error processing video: {str(e)}\")\n",
        "\n",
        "def preprocess_transcript(transcript: str, chunk_size: int = 200) -> List[str]:\n",
        "\n",
        "    # Split on sentence boundaries instead of spaces\n",
        "    sentences = [s.strip() for s in transcript.split('.') if s.strip()]\n",
        "    chunks = []\n",
        "    current_chunk = []\n",
        "    current_length = 0\n",
        "\n",
        "    for sentence in sentences:\n",
        "        sentence_length = len(sentence)\n",
        "        if current_length + sentence_length <= chunk_size:\n",
        "            current_chunk.append(sentence)\n",
        "            current_length += sentence_length\n",
        "        else:\n",
        "            if current_chunk:\n",
        "                chunks.append('. '.join(current_chunk) + '.')\n",
        "            current_chunk = [sentence]\n",
        "            current_length = sentence_length\n",
        "\n",
        "    if current_chunk:\n",
        "        chunks.append('. '.join(current_chunk) + '.')\n",
        "\n",
        "    return chunks\n",
        "\n",
        "def query_llama_model(api_key: str, prompt: str) -> Optional[str]:\n",
        "\n",
        "    if not api_key:\n",
        "        raise ValueError(\"API key is required\")\n",
        "\n",
        "    headers = {\n",
        "        \"Authorization\": f\"Bearer {api_key}\",\n",
        "        \"Content-Type\": \"application/json\"\n",
        "    }\n",
        "\n",
        "    payload = {\n",
        "        \"model\": \"llama-3.1-8b-instant\",  \n",
        "        \"messages\": [\n",
        "            {\n",
        "                \"role\": \"system\",\n",
        "                \"content\": \"You are a helpful assistant that answers questions about video content based on transcripts.\"\n",
        "            },\n",
        "            {\n",
        "                \"role\": \"user\",\n",
        "                \"content\": prompt\n",
        "            }\n",
        "        ],\n",
        "        \"temperature\": 0.7\n",
        "\n",
        "    }\n",
        "\n",
        "    try:\n",
        "        response = requests.post(\n",
        "            \"https://api.groq.com/openai/v1/chat/completions\",\n",
        "            headers=headers,\n",
        "            json=payload,\n",
        "            timeout=30\n",
        "        )\n",
        "\n",
        "        if response.status_code != 200:\n",
        "            logging.error(f\"API Error: {response.status_code} - {response.text}\")\n",
        "            return None\n",
        "\n",
        "        result = response.json()\n",
        "        if not result.get(\"choices\"):\n",
        "            raise ValueError(\"No choices in response\")\n",
        "\n",
        "        return result[\"choices\"][0][\"message\"][\"content\"].strip()\n",
        "\n",
        "    except requests.exceptions.RequestException as e:\n",
        "        logging.error(f\"API request failed: {str(e)}\")\n",
        "        return None\n",
        "    except (KeyError, ValueError) as e:\n",
        "        logging.error(f\"Error parsing API response: {str(e)}\")\n",
        "        return None\n",
        "\n",
        "def youtube_qa_system(video_url: str, question: str, api_key: str) -> str:\n",
        "\n",
        "    try:\n",
        "        \n",
        "        if not video_url or not question or not api_key:\n",
        "            raise ValueError(\"Missing required parameters\")\n",
        "\n",
        "        \n",
        "        transcript = fetch_transcript(video_url)\n",
        "        if not transcript:\n",
        "            return \"Could not extract transcript from video\"\n",
        "\n",
        "        \n",
        "        chunks = preprocess_transcript(transcript)\n",
        "        if not chunks:\n",
        "            return \"Failed to process transcript\"\n",
        "\n",
        "\n",
        "        context = \" \".join(chunks)\n",
        "        prompt = (\n",
        "            f\"Based on the following video transcript, please answer the question.\\n\\n\"\n",
        "            f\"Transcript: {context}\\n\\n\"\n",
        "            f\"Question: {question}\\n\\n\"\n",
        "            f\"Answer:\"\n",
        "        )\n",
        "\n",
        "        \n",
        "        answer = query_llama_model(api_key, prompt)\n",
        "        if not answer:\n",
        "            return \"Failed to generate answer\"\n",
        "\n",
        "        return answer\n",
        "\n",
        "    except Exception as e:\n",
        "        logging.error(f\"Error in QA system: {str(e)}\")\n",
        "        return f\"An error occurred: {str(e)}\"\n",
        "\n",
        "\n",
        "if __name__ == \"__main__\":\n",
        "    video_url = \"https://youtu.be/tbnzAVRZ9Xc?feature=shared\"\n",
        "    question = input(\"Enter Question \")\n",
        "    groq_api_key = \"\"  # Replace with your Groq API key for Llama.\n",
        "\n",
        "    logging.basicConfig(level=logging.INFO)\n",
        "    answer = youtube_qa_system(video_url, question, groq_api_key)\n",
        "    print(\"Answer:\", answer)"
      ]
    },
    {
      "cell_type": "code",
      "execution_count": null,
      "metadata": {
        "id": "gmV6szvRNYwc"
      },
      "outputs": [],
      "source": []
    }
  ],
  "metadata": {
    "colab": {
      "provenance": []
    },
    "kernelspec": {
      "display_name": "Python 3",
      "name": "python3"
    },
    "language_info": {
      "name": "python"
    }
  },
  "nbformat": 4,
  "nbformat_minor": 0
}
